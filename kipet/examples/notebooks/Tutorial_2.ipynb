{
 "cells": [
  {
   "cell_type": "markdown",
   "metadata": {},
   "source": [
    "# Tutorial 2 – Parameter Estimation\n",
    "\n",
    "In the second example we will be looking at a parameter estimation problem where we combine most of the elements discussed in the Overview section of this document. This example is the same reaction system as Tutorial 1, except in this case we use a simulated data set as our input D-matrix. This example, while not too computationally complex provides a good overview of all the capabilities of KIPET."
   ]
  },
  {
   "cell_type": "markdown",
   "metadata": {},
   "source": [
    "### Load required modules"
   ]
  },
  {
   "cell_type": "code",
   "execution_count": null,
   "metadata": {},
   "outputs": [],
   "source": [
    "import inspect\n",
    "import os\n",
    "import sys\n",
    "\n",
    "import matplotlib.pyplot as plt\n",
    "\n",
    "from kipet.library.common.charts import make_plot\n",
    "from kipet.library.data_tools import *\n",
    "from kipet.library.ParameterEstimator import *\n",
    "from kipet.library.PyomoSimulator import *\n",
    "from kipet.library.TemplateBuilder import *\n",
    "from kipet.library.VarianceEstimator import *"
   ]
  },
  {
   "cell_type": "markdown",
   "metadata": {},
   "source": [
    "### Reading data\n",
    "\n",
    "Firstly we will need to input our D-matrix, which contains the spectral data. More notes on the structure of these data files and which file types are permitted are included in the section on data files. In order to do this we need to point the model to the data file. We can do this by using the following lines:"
   ]
  },
  {
   "cell_type": "code",
   "execution_count": null,
   "metadata": {},
   "outputs": [],
   "source": [
    "dataDirectory = os.path.abspath(\n",
    "        os.path.join( os.path.dirname( os.path.abspath( inspect.getfile(\n",
    "            inspect.currentframe() ) ) ), 'data_sets'))\n",
    "filename =  os.path.join(dataDirectory,'Dij.txt')\n",
    "D_frame = read_file(filename)"
   ]
  },
  {
   "cell_type": "markdown",
   "metadata": {},
   "source": [
    "### Load required modules"
   ]
  },
  {
   "cell_type": "code",
   "execution_count": null,
   "metadata": {},
   "outputs": [],
   "source": [
    "import inspect\n",
    "import os\n",
    "import sys\n",
    "\n",
    "import matplotlib.pyplot as plt\n",
    "\n",
    "from kipet.library.common.charts import make_plot\n",
    "from kipet.library.data_tools import *\n",
    "from kipet.library.ParameterEstimator import *\n",
    "from kipet.library.PyomoSimulator import *\n",
    "from kipet.library.TemplateBuilder import *\n",
    "from kipet.library.VarianceEstimator import *"
   ]
  },
  {
   "cell_type": "markdown",
   "metadata": {},
   "source": [
    "where dataDirectory points to the folder/directory where the data file is found. The ‘..’ refers to changing directory back one and ‘data_sets’ is the name of the folder where the data file is found. The filename refers to the exact location of the data file, ‘Dij.txt’. Finally we define the D_frame which uses the KIPET function:\n",
    "\n",
    "```read_spectral_data_from_text()```\n",
    "\n",
    "### TemplateBuilder\n",
    "\n",
    "The TemplateBuilder is constructed in the same way as in the previous example, except in this case we add the parameters with bounds as opposed to fixed values. This is done in the following way:"
   ]
  },
  {
   "cell_type": "code",
   "execution_count": null,
   "metadata": {},
   "outputs": [],
   "source": [
    "builder = TemplateBuilder()    \n",
    "components = {'A':1e-3,'B':0,'C':0}\n",
    "builder.add_mixture_component(components)\n",
    "builder.add_parameter('k1', init=4.0, bounds=(0.0,5.0)) \n",
    "\n",
    "#There is also the option of providing initial values: Just add init=... as additional argument as above.\n",
    "builder.add_parameter('k2', init=2, bounds=(0.0, 1.0))\n",
    "builder.add_spectral_data(D_frame)\n",
    "\n",
    "# define explicit system of ODEs\n",
    "def rule_odes(m,t):\n",
    "    exprs = dict()\n",
    "    exprs['A'] = -m.P['k1']*m.Z[t,'A']\n",
    "    exprs['B'] = m.P['k1']*m.Z[t,'A']-m.P['k2']*m.Z[t,'B']\n",
    "    exprs['C'] = m.P['k2']*m.Z[t,'B']\n",
    "    return exprs\n",
    "\n",
    "builder.set_odes_rule(rule_odes)\n",
    "builder.bound_profile(var='S', bounds=(0, 200))\n",
    "opt_model = builder.create_pyomo_model(0.0,10.0)"
   ]
  },
  {
   "cell_type": "markdown",
   "metadata": {},
   "source": [
    "The components, ODEs, and the optimization problem are all set up in the same way as was previously explained."
   ]
  },
  {
   "cell_type": "markdown",
   "metadata": {},
   "source": [
    "### VarianceEstimator\n",
    "\n",
    "After the Pyomo model is set up with the TemplateBuilder the VarianceEstimator is called, followed by the discretization scheme, as was previously shown:"
   ]
  },
  {
   "cell_type": "code",
   "execution_count": null,
   "metadata": {},
   "outputs": [],
   "source": [
    "v_estimator = VarianceEstimator(opt_model)\n",
    "v_estimator.apply_discretization('dae.collocation',\n",
    "                                 nfe = 60,\n",
    "                                 ncp = 1,\n",
    "                                 scheme = 'LAGRANGE-RADAU')"
   ]
  },
  {
   "cell_type": "markdown",
   "metadata": {},
   "source": [
    "The next section of code run the optimization procedure described in the Overview section and detailed in Chen, et al. (2016)."
   ]
  },
  {
   "cell_type": "code",
   "execution_count": null,
   "metadata": {},
   "outputs": [],
   "source": [
    "options = {}\n",
    "    \n",
    "A_set = [l for i,l in enumerate(opt_model.meas_lambdas) if (i % 4 == 0)]\n",
    "    \n",
    "# Finally we run the variance estimatator using the arguments shown in Seciton 4.3.3\n",
    "results_variances = v_estimator.run_opt('ipopt',\n",
    "                                        tee=True,\n",
    "                                        solver_options=options,\n",
    "                                        tolerance=1e-5,\n",
    "                                        max_iter=15,\n",
    "                                        subset_lambdas=A_set)\n",
    "\n"
   ]
  },
  {
   "cell_type": "markdown",
   "metadata": {},
   "source": [
    "Where the solver is ’ipopt’, tee = True is to stream the optimizer output to the console, solver options are related to the IPOPT solver and can be viewed in the IPOPT manual. In the case of this example, no options are given to the solver and allowing KIPET to provide good default options. The tolerance argument is the tolerance required for the termination of the variance estimator for the change in Z between iterations, as described in the paper. The max_iter argument is for the maximum number of iterations of the iterative procedure described in Figure 4. subset_lambdas = A_set is the set of wavelengths to use in initializing the problem, default=all. For large problems it might be worth making that smaller as it allows the VarianceEstimator a smaller set to work with. For problems with a lot of noise, this can be very useful and was shown in the paper to be equally effective as including the entire set of wavelengths. A_set in this example is set to be every fourth value. After the VarianceEstimator iterative procedure is completed, the results can then be printed:"
   ]
  },
  {
   "cell_type": "code",
   "execution_count": null,
   "metadata": {},
   "outputs": [],
   "source": [
    "print(\"\\nThe estimated variances are:\\n\")\n",
    "for k, v in results_variances.sigma_sq.items():\n",
    "    print(k, v)\n",
    "\n",
    "# and the sigmas for the parameter estimation step are now known and fixed\n",
    "sigmas = results_variances.sigma_sq"
   ]
  },
  {
   "cell_type": "markdown",
   "metadata": {},
   "source": [
    "Where the “device” refers to the measurement error.\n",
    "\n",
    "### ParameterEstimator\n",
    "\n",
    "After rewriting the Pyomo model created from the VarianceEstimator, the ParameterEstimator function is created:"
   ]
  },
  {
   "cell_type": "code",
   "execution_count": null,
   "metadata": {},
   "outputs": [],
   "source": [
    "opt_model = builder.create_pyomo_model(0.0,10.0)\n",
    "p_estimator = ParameterEstimator(opt_model)"
   ]
  },
  {
   "cell_type": "markdown",
   "metadata": {},
   "source": [
    "Discretization is then applied to the p_estimator, as in the previous example, and before running the ParameterEstimator optimization we can use the VarianceEstimator’s results in order to initialize the p_estimator model. This is only possible if the VarianceEstimator is used, but it can also be omitted. Note that the discretization of the p_estimator has to be done with the same element and collocation point placement in order to maximize the benefits of the initialization step."
   ]
  },
  {
   "cell_type": "code",
   "execution_count": null,
   "metadata": {},
   "outputs": [],
   "source": [
    "p_estimator.apply_discretization('dae.collocation',\n",
    "                                 nfe = 60,\n",
    "                                 ncp = 1,\n",
    "                                 scheme='LAGRANGE-RADAU')\n",
    "\n",
    "p_estimator.initialize_from_trajectory('Z',results_variances.Z)\n",
    "p_estimator.initialize_from_trajectory('S',results_variances.S)\n",
    "p_estimator.initialize_from_trajectory('C',results_variances.C)"
   ]
  },
  {
   "cell_type": "markdown",
   "metadata": {},
   "source": [
    "IPOPT performs rudimentary scaling of variables automatically. Some problems may, however, require more detailed scaling information so that IPOPT can perform in an efficient manner. In order to use the scaling information from the previous optimization we may use the following:"
   ]
  },
  {
   "cell_type": "code",
   "execution_count": null,
   "metadata": {},
   "outputs": [],
   "source": [
    "p_estimator.scale_variables_from_trajectory('Z',results_variances.Z)\n",
    "p_estimator.scale_variables_from_trajectory('S',results_variances.S)\n",
    "p_estimator.scale_variables_from_trajectory('C',results_variances.C)"
   ]
  },
  {
   "cell_type": "markdown",
   "metadata": {},
   "source": [
    "Once again, this step is not a necessity for all problems, particularly those that are well-scaled for IPOPT. If this variable scaling is included then the optimization step will need to include the NLP scaling option, as demonstrated below:"
   ]
  },
  {
   "cell_type": "code",
   "execution_count": null,
   "metadata": {},
   "outputs": [],
   "source": [
    "options = dict()\n",
    "options['nlp_scaling_method'] = 'user-scaling'\n",
    "\n",
    "results_pyomo = p_estimator.run_opt('ipopt',\n",
    "                                  tee=True,\n",
    "                                  solver_opts = options,\n",
    "                                  variances=sigmas)\n"
   ]
  },
  {
   "cell_type": "markdown",
   "metadata": {},
   "source": [
    "Where the additional argument, variances = sigmas, refers to the fact that we are including the variances calculated by the VarianceEstimator."
   ]
  },
  {
   "cell_type": "markdown",
   "metadata": {},
   "source": [
    "### Visualize the Results"
   ]
  },
  {
   "cell_type": "code",
   "execution_count": null,
   "metadata": {},
   "outputs": [],
   "source": [
    " print(\"The estimated parameters are:\")\n",
    "for k, v in results_pyomo.P.items():\n",
    "    print(k, v)\n",
    "\n",
    "\n",
    "results_pyomo.C.plot.line(legend=True)\n",
    "plt.xlabel(\"time (s)\")\n",
    "plt.ylabel(\"Concentration (mol/L)\")\n",
    "plt.title(\"Concentration Profile\")\n",
    "\n",
    "results_pyomo.S.plot.line(legend=True)\n",
    "plt.xlabel(\"Wavelength (cm)\")\n",
    "plt.ylabel(\"Absorbance (L/(mol cm))\")\n",
    "plt.title(\"Absorbance  Profile\")\n",
    "\n",
    "plt.show()"
   ]
  },
  {
   "cell_type": "markdown",
   "metadata": {},
   "source": [
    "### Confidence intervals\n",
    "\n",
    "If the user would like to assess the level of confidence in the estimated parameters the run_opt function needs to be changed. And example of this is found in the Example labeled “Ex_2_estimation_conf.py” in the Examples folder. Firstly the ‘k_aug’ solver needs to be called. Additionally, the option for the covariance needs to be changed from the default. More information on the ParameterEstimator function is found in section 5."
   ]
  }
 ],
 "metadata": {
  "kernelspec": {
   "display_name": "Python Kipet",
   "language": "python",
   "name": "kipet_env"
  },
  "language_info": {
   "codemirror_mode": {
    "name": "ipython",
    "version": 3
   },
   "file_extension": ".py",
   "mimetype": "text/x-python",
   "name": "python",
   "nbconvert_exporter": "python",
   "pygments_lexer": "ipython3",
   "version": "3.8.2"
  }
 },
 "nbformat": 4,
 "nbformat_minor": 4
}
