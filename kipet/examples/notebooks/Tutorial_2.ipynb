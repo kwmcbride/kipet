{
 "cells": [
  {
   "cell_type": "markdown",
   "metadata": {},
   "source": [
    "# Tutorial 2 – Parameter Estimation\n",
    "\n",
    "In the second example we will be looking at a parameter estimation problem where we combine most of the elements discussed in the Overview section of this document. This example is the same reaction system as Tutorial 1, except in this case we use a simulated data set as our input D-matrix. This example, while not too computationally complex provides a good overview of all the capabilities of KIPET."
   ]
  },
  {
   "cell_type": "markdown",
   "metadata": {},
   "source": [
    "### Load required modules"
   ]
  },
  {
   "cell_type": "code",
   "execution_count": 21,
   "metadata": {},
   "outputs": [],
   "source": [
    "import inspect\n",
    "import os\n",
    "import sys\n",
    "\n",
    "import matplotlib.pyplot as plt\n",
    "\n",
    "from kipet.library.common.charts import make_plot\n",
    "from kipet.library.data_tools import *\n",
    "from kipet.library.ParameterEstimator import *\n",
    "from kipet.library.PyomoSimulator import *\n",
    "from kipet.library.TemplateBuilder import *\n",
    "from kipet.library.VarianceEstimator import *"
   ]
  },
  {
   "cell_type": "markdown",
   "metadata": {},
   "source": [
    "### Reading data\n",
    "\n",
    "Firstly we will need to input our D-matrix, which contains the spectral data. More notes on the structure of these data files and which file types are permitted are included in the section on data files. In order to do this we need to point the model to the data file. We can do this by using the following lines:"
   ]
  },
  {
   "cell_type": "code",
   "execution_count": 22,
   "metadata": {},
   "outputs": [
    {
     "name": "stdout",
     "output_type": "stream",
     "text": [
      "read dir : /home/kevin/Dev/kipet/kipet/examples/data_sets/Dij.txt\n"
     ]
    }
   ],
   "source": [
    "dataDirectory = os.path.abspath(\n",
    "        os.path.join( os.path.dirname( os.path.abspath( inspect.getfile(\n",
    "            inspect.currentframe() ) ) ), 'data_sets'))\n",
    "filename =  os.path.join(dataDirectory,'Dij.txt')\n",
    "D_frame = read_file(filename)"
   ]
  },
  {
   "cell_type": "markdown",
   "metadata": {},
   "source": [
    "### Load required modules"
   ]
  },
  {
   "cell_type": "code",
   "execution_count": 21,
   "metadata": {},
   "outputs": [],
   "source": [
    "import inspect\n",
    "import os\n",
    "import sys\n",
    "\n",
    "import matplotlib.pyplot as plt\n",
    "\n",
    "from kipet.library.common.charts import make_plot\n",
    "from kipet.library.data_tools import *\n",
    "from kipet.library.ParameterEstimator import *\n",
    "from kipet.library.PyomoSimulator import *\n",
    "from kipet.library.TemplateBuilder import *\n",
    "from kipet.library.VarianceEstimator import *"
   ]
  },
  {
   "cell_type": "markdown",
   "metadata": {},
   "source": [
    "where dataDirectory points to the folder/directory where the data file is found. The ‘..’ refers to changing directory back one and ‘data_sets’ is the name of the folder where the data file is found. The filename refers to the exact location of the data file, ‘Dij.txt’. Finally we define the D_frame which uses the KIPET function:\n",
    "\n",
    "```read_spectral_data_from_text()```\n",
    "\n",
    "### TemplateBuilder\n",
    "\n",
    "The TemplateBuilder is constructed in the same way as in the previous example, except in this case we add the parameters with bounds as opposed to fixed values. This is done in the following way:"
   ]
  },
  {
   "cell_type": "code",
   "execution_count": 23,
   "metadata": {},
   "outputs": [],
   "source": [
    "builder = TemplateBuilder()    \n",
    "components = {'A':1e-3,'B':0,'C':0}\n",
    "builder.add_mixture_component(components)\n",
    "builder.add_parameter('k1', init=4.0, bounds=(0.0,5.0)) \n",
    "\n",
    "#There is also the option of providing initial values: Just add init=... as additional argument as above.\n",
    "builder.add_parameter('k2', init=2, bounds=(0.0, 1.0))\n",
    "builder.add_spectral_data(D_frame)\n",
    "\n",
    "# define explicit system of ODEs\n",
    "def rule_odes(m,t):\n",
    "    exprs = dict()\n",
    "    exprs['A'] = -m.P['k1']*m.Z[t,'A']\n",
    "    exprs['B'] = m.P['k1']*m.Z[t,'A']-m.P['k2']*m.Z[t,'B']\n",
    "    exprs['C'] = m.P['k2']*m.Z[t,'B']\n",
    "    return exprs\n",
    "\n",
    "builder.set_odes_rule(rule_odes)\n",
    "builder.bound_profile(var='S', bounds=(0, 200))\n",
    "opt_model = builder.create_pyomo_model(0.0,10.0)"
   ]
  },
  {
   "cell_type": "markdown",
   "metadata": {},
   "source": [
    "The components, ODEs, and the optimization problem are all set up in the same way as was previously explained."
   ]
  },
  {
   "cell_type": "markdown",
   "metadata": {},
   "source": [
    "### VarianceEstimator\n",
    "\n",
    "After the Pyomo model is set up with the TemplateBuilder the VarianceEstimator is called, followed by the discretization scheme, as was previously shown:"
   ]
  },
  {
   "cell_type": "code",
   "execution_count": 24,
   "metadata": {},
   "outputs": [
    {
     "name": "stdout",
     "output_type": "stream",
     "text": [
      "WARNING: More finite elements were found in ContinuousSet 'alltime' than the\n",
      "    number of finite elements specified in apply. The larger number of finite\n",
      "    elements will be used.\n"
     ]
    }
   ],
   "source": [
    "v_estimator = VarianceEstimator(opt_model)\n",
    "v_estimator.apply_discretization('dae.collocation',\n",
    "                                 nfe = 60,\n",
    "                                 ncp = 1,\n",
    "                                 scheme = 'LAGRANGE-RADAU')"
   ]
  },
  {
   "cell_type": "markdown",
   "metadata": {},
   "source": [
    "The next section of code run the optimization procedure described in the Overview section and detailed in Chen, et al. (2016)."
   ]
  },
  {
   "cell_type": "code",
   "execution_count": 25,
   "metadata": {},
   "outputs": [
    {
     "name": "stdout",
     "output_type": "stream",
     "text": [
      "Default method of originalchenetal selected\n",
      "The available methods are originalchenetal, direct_sigmas, alternate\n",
      "Solving Initialization Problem\n",
      "\n",
      "Ipopt 3.13.2: \n",
      "\n",
      "******************************************************************************\n",
      "This program contains Ipopt, a library for large-scale nonlinear optimization.\n",
      " Ipopt is released as open source code under the Eclipse Public License (EPL).\n",
      "         For more information visit http://projects.coin-or.org/Ipopt\n",
      "******************************************************************************\n",
      "\n",
      "This is Ipopt version 3.13.2, running with linear solver ma27.\n",
      "\n",
      "Number of nonzeros in equality constraint Jacobian...:     6003\n",
      "Number of nonzeros in inequality constraint Jacobian.:        0\n",
      "Number of nonzeros in Lagrangian Hessian.............:    70050\n",
      "\n",
      "Total number of variables............................:     1880\n",
      "                     variables with only lower bounds:        0\n",
      "                variables with lower and upper bounds:       77\n",
      "                     variables with only upper bounds:        0\n",
      "Total number of equality constraints.................:     1803\n",
      "Total number of inequality constraints...............:        0\n",
      "        inequality constraints with only lower bounds:        0\n",
      "   inequality constraints with lower and upper bounds:        0\n",
      "        inequality constraints with only upper bounds:        0\n",
      "\n",
      "iter    objective    inf_pr   inf_du lg(mu)  ||d||  lg(rg) alpha_du alpha_pr  ls\n",
      "   0  2.7192874e+04 1.00e+00 1.00e+02  -1.0 0.00e+00    -  0.00e+00 0.00e+00   0\n",
      "   1  7.1983429e+01 6.95e-04 1.00e+02  -1.0 1.00e+00   2.0 7.04e-01 1.00e+00f  1\n",
      "   2  6.0595636e+01 8.42e-06 1.42e+00  -1.0 8.80e+00    -  9.92e-01 1.00e+00f  1\n",
      "   3  4.5216015e+01 7.62e-05 3.07e+00  -1.0 2.71e+01    -  7.44e-01 1.00e+00f  1\n",
      "   4  2.3081370e+01 1.81e-04 3.37e+00  -1.0 1.39e+02    -  3.38e-01 2.73e-01f  1\n",
      "   5  3.6591467e+00 8.77e-05 8.82e+00  -1.0 4.75e+01    -  1.00e+00 1.00e+00f  1\n",
      "   6  7.4490783e-01 1.74e-05 1.02e+01  -1.0 7.94e+01    -  1.00e+00 1.00e+00f  1\n",
      "   7  7.6528821e-01 6.43e-05 5.58e+00  -1.0 1.47e+01    -  1.00e+00 4.71e-01f  2\n",
      "   8  4.6118101e-01 2.00e-04 5.35e+00  -1.0 1.68e+01    -  6.32e-01 1.00e+00h  1\n",
      "   9  6.4703637e-01 6.70e-05 9.40e-01  -1.0 4.86e+00    -  1.00e+00 1.00e+00h  1\n",
      "iter    objective    inf_pr   inf_du lg(mu)  ||d||  lg(rg) alpha_du alpha_pr  ls\n",
      "  10  3.4846773e-01 3.43e-06 1.16e-01  -1.7 5.92e+00    -  1.00e+00 1.00e+00h  1\n",
      "  11  1.0278253e-01 2.13e-06 2.10e-01  -2.5 1.20e+01    -  1.00e+00 1.00e+00h  1\n",
      "  12  1.0287410e-01 4.59e-11 3.26e-03  -2.5 9.77e-05   1.5 1.00e+00 1.00e+00h  1\n",
      "  13  2.9499493e-02 5.66e-05 4.52e-01  -3.8 1.81e+01    -  6.32e-01 1.00e+00f  1\n",
      "  14  3.6969918e-02 1.29e-07 1.44e-02  -3.8 1.13e-03   1.0 1.00e+00 1.00e+00h  1\n",
      "  15  3.6397719e-02 1.83e-08 1.32e-02  -3.8 3.55e-03   0.6 1.00e+00 1.00e+00h  1\n",
      "  16  3.5028583e-02 1.24e-07 1.18e-02  -3.8 9.53e-03   0.1 1.00e+00 1.00e+00h  1\n",
      "  17  3.2385065e-02 6.15e-07 9.03e-03  -3.8 2.17e-02  -0.4 1.00e+00 1.00e+00h  1\n",
      "  18  2.9113840e-02 1.72e-06 5.46e-03  -3.8 3.80e-02  -0.9 1.00e+00 1.00e+00h  1\n",
      "  19  2.6683827e-02 2.67e-06 2.58e-03  -3.8 5.10e-02  -1.3 1.00e+00 1.00e+00h  1\n",
      "iter    objective    inf_pr   inf_du lg(mu)  ||d||  lg(rg) alpha_du alpha_pr  ls\n",
      "  20  2.5535480e-02 2.46e-06 1.29e-03  -3.8 5.35e-02  -1.8 1.00e+00 1.00e+00h  1\n",
      "  21  2.5090109e-02 9.96e-07 4.23e-04  -5.7 4.95e-02  -2.3 9.31e-01 1.00e+00h  1\n",
      "  22  2.4610379e-02 2.83e-06 5.64e-04  -5.7 1.35e-01  -2.8 1.00e+00 1.00e+00h  1\n",
      "  23  2.3883888e-02 1.25e-05 2.89e-03  -5.7 2.74e-01  -3.2 1.00e+00 1.00e+00h  1\n",
      "  24  2.3204481e-02 6.31e-06 1.97e-03  -5.7 1.72e-01  -3.7 1.00e+00 1.00e+00h  1\n",
      "  25  2.2316264e-02 2.34e-08 9.83e-05  -5.7 2.68e-01  -4.2 1.00e+00 1.00e+00h  1\n",
      "  26  2.1188013e-02 2.14e-07 2.48e-04  -5.7 5.36e-01  -4.7 1.00e+00 1.00e+00h  1\n",
      "  27  1.9329606e-02 1.86e-06 1.74e-03  -5.7 1.17e+00  -5.2 1.00e+00 1.00e+00h  1\n",
      "  28  1.6569288e-02 6.30e-06 7.85e-03  -5.7 2.19e+00  -5.6 1.00e+00 1.00e+00h  1\n",
      "  29  1.5340419e-02 3.04e-05 3.95e-02  -5.7 5.12e+00    -  1.00e+00 1.00e+00h  1\n",
      "iter    objective    inf_pr   inf_du lg(mu)  ||d||  lg(rg) alpha_du alpha_pr  ls\n",
      "  30  1.6427901e-02 1.97e-05 2.02e-02  -5.7 5.34e+00  -6.1 1.00e+00 1.00e+00h  1\n",
      "  31  1.4842151e-02 2.93e-06 5.21e-03  -5.7 1.36e+00    -  1.00e+00 1.00e+00h  1\n",
      "  32  1.4677532e-02 5.26e-07 2.89e-04  -5.7 4.62e-01  -5.7 1.00e+00 1.00e+00h  1\n",
      "  33  1.4630435e-02 3.04e-07 6.95e-04  -5.7 1.22e+00  -6.2 1.00e+00 1.00e+00h  1\n",
      "  34  1.4614029e-02 4.69e-06 7.04e-03  -5.7 1.39e+01    -  8.46e-01 2.50e-01h  3\n",
      "  35  1.4546768e-02 1.74e-06 3.58e-04  -5.7 7.44e-01    -  1.00e+00 1.00e+00h  1\n",
      "  36  1.4543891e-02 1.45e-08 1.37e-05  -5.7 6.81e-02    -  1.00e+00 1.00e+00h  1\n",
      "  37  1.4543779e-02 1.16e-08 5.18e-06  -8.6 9.07e-02    -  9.98e-01 1.00e+00h  1\n",
      "  38  1.4543777e-02 5.99e-12 5.32e-09  -8.6 2.91e-03    -  1.00e+00 1.00e+00h  1\n",
      "\n",
      "Number of Iterations....: 38\n",
      "\n",
      "                                   (scaled)                 (unscaled)\n",
      "Objective...............:   1.2523480859278253e-03    1.4543777257370091e-02\n",
      "Dual infeasibility......:   5.3171466812829138e-09    6.1749123782986340e-08\n",
      "Constraint violation....:   5.9892350071934740e-12    5.9892350071934740e-12\n",
      "Complementarity.........:   2.5120876757171663e-09    2.9173393577351301e-08\n",
      "Overall NLP error.......:   5.3171466812829138e-09    6.1749123782986340e-08\n",
      "\n",
      "\n",
      "Number of objective function evaluations             = 48\n",
      "Number of objective gradient evaluations             = 39\n",
      "Number of equality constraint evaluations            = 48\n",
      "Number of inequality constraint evaluations          = 0\n",
      "Number of equality constraint Jacobian evaluations   = 39\n",
      "Number of inequality constraint Jacobian evaluations = 0\n",
      "Number of Lagrangian Hessian evaluations             = 38\n",
      "Total CPU secs in IPOPT (w/o function evaluations)   =      1.332\n",
      "Total CPU secs in NLP function evaluations           =      0.956\n",
      "\n",
      "EXIT: Optimal Solution Found.\n",
      "       Iter            |Zi-Zi+1|\n",
      "          1 1.5336894758745737e-11\n",
      "Iterative optimization converged. Estimating variances now\n"
     ]
    }
   ],
   "source": [
    "options = {}\n",
    "    \n",
    "A_set = [l for i,l in enumerate(opt_model.meas_lambdas) if (i % 4 == 0)]\n",
    "    \n",
    "# Finally we run the variance estimatator using the arguments shown in Seciton 4.3.3\n",
    "results_variances = v_estimator.run_opt('ipopt',\n",
    "                                        tee=True,\n",
    "                                        solver_options=options,\n",
    "                                        tolerance=1e-5,\n",
    "                                        max_iter=15,\n",
    "                                        subset_lambdas=A_set)\n",
    "\n"
   ]
  },
  {
   "cell_type": "markdown",
   "metadata": {},
   "source": [
    "Where the solver is ’ipopt’, tee = True is to stream the optimizer output to the console, solver options are related to the IPOPT solver and can be viewed in the IPOPT manual. In the case of this example, no options are given to the solver and allowing KIPET to provide good default options. The tolerance argument is the tolerance required for the termination of the variance estimator for the change in Z between iterations, as described in the paper. The max_iter argument is for the maximum number of iterations of the iterative procedure described in Figure 4. subset_lambdas = A_set is the set of wavelengths to use in initializing the problem, default=all. For large problems it might be worth making that smaller as it allows the VarianceEstimator a smaller set to work with. For problems with a lot of noise, this can be very useful and was shown in the paper to be equally effective as including the entire set of wavelengths. A_set in this example is set to be every fourth value. After the VarianceEstimator iterative procedure is completed, the results can then be printed:"
   ]
  },
  {
   "cell_type": "code",
   "execution_count": 26,
   "metadata": {},
   "outputs": [
    {
     "name": "stdout",
     "output_type": "stream",
     "text": [
      "\n",
      "The estimated variances are:\n",
      "\n",
      "C 9.625664603500908e-11\n",
      "B 1.6455641985807274e-10\n",
      "A 1.0888292513884262e-10\n",
      "device 3.2888861572533785e-06\n"
     ]
    }
   ],
   "source": [
    "print(\"\\nThe estimated variances are:\\n\")\n",
    "for k, v in results_variances.sigma_sq.items():\n",
    "    print(k, v)\n",
    "\n",
    "# and the sigmas for the parameter estimation step are now known and fixed\n",
    "sigmas = results_variances.sigma_sq"
   ]
  },
  {
   "cell_type": "markdown",
   "metadata": {},
   "source": [
    "Where the “device” refers to the measurement error.\n",
    "\n",
    "### ParameterEstimator\n",
    "\n",
    "After rewriting the Pyomo model created from the VarianceEstimator, the ParameterEstimator function is created:"
   ]
  },
  {
   "cell_type": "code",
   "execution_count": 27,
   "metadata": {},
   "outputs": [],
   "source": [
    "opt_model = builder.create_pyomo_model(0.0,10.0)\n",
    "p_estimator = ParameterEstimator(opt_model)"
   ]
  },
  {
   "cell_type": "markdown",
   "metadata": {},
   "source": [
    "Discretization is then applied to the p_estimator, as in the previous example, and before running the ParameterEstimator optimization we can use the VarianceEstimator’s results in order to initialize the p_estimator model. This is only possible if the VarianceEstimator is used, but it can also be omitted. Note that the discretization of the p_estimator has to be done with the same element and collocation point placement in order to maximize the benefits of the initialization step."
   ]
  },
  {
   "cell_type": "code",
   "execution_count": 28,
   "metadata": {},
   "outputs": [
    {
     "name": "stdout",
     "output_type": "stream",
     "text": [
      "WARNING: More finite elements were found in ContinuousSet 'alltime' than the\n",
      "    number of finite elements specified in apply. The larger number of finite\n",
      "    elements will be used.\n"
     ]
    }
   ],
   "source": [
    "p_estimator.apply_discretization('dae.collocation',\n",
    "                                 nfe = 60,\n",
    "                                 ncp = 1,\n",
    "                                 scheme='LAGRANGE-RADAU')\n",
    "\n",
    "p_estimator.initialize_from_trajectory('Z',results_variances.Z)\n",
    "p_estimator.initialize_from_trajectory('S',results_variances.S)\n",
    "p_estimator.initialize_from_trajectory('C',results_variances.C)"
   ]
  },
  {
   "cell_type": "markdown",
   "metadata": {},
   "source": [
    "IPOPT performs rudimentary scaling of variables automatically. Some problems may, however, require more detailed scaling information so that IPOPT can perform in an efficient manner. In order to use the scaling information from the previous optimization we may use the following:"
   ]
  },
  {
   "cell_type": "code",
   "execution_count": 29,
   "metadata": {},
   "outputs": [],
   "source": [
    "p_estimator.scale_variables_from_trajectory('Z',results_variances.Z)\n",
    "p_estimator.scale_variables_from_trajectory('S',results_variances.S)\n",
    "p_estimator.scale_variables_from_trajectory('C',results_variances.C)"
   ]
  },
  {
   "cell_type": "markdown",
   "metadata": {},
   "source": [
    "Once again, this step is not a necessity for all problems, particularly those that are well-scaled for IPOPT. If this variable scaling is included then the optimization step will need to include the NLP scaling option, as demonstrated below:"
   ]
  },
  {
   "cell_type": "code",
   "execution_count": 30,
   "metadata": {},
   "outputs": [
    {
     "name": "stdout",
     "output_type": "stream",
     "text": [
      "Ipopt 3.13.2: nlp_scaling_method=user-scaling\n",
      "\n",
      "\n",
      "******************************************************************************\n",
      "This program contains Ipopt, a library for large-scale nonlinear optimization.\n",
      " Ipopt is released as open source code under the Eclipse Public License (EPL).\n",
      "         For more information visit http://projects.coin-or.org/Ipopt\n",
      "******************************************************************************\n",
      "\n",
      "This is Ipopt version 3.13.2, running with linear solver ma27.\n",
      "\n",
      "Number of nonzeros in equality constraint Jacobian...:     6003\n",
      "Number of nonzeros in inequality constraint Jacobian.:        0\n",
      "Number of nonzeros in Lagrangian Hessian.............:   274800\n",
      "\n",
      "Total number of variables............................:     3005\n",
      "                     variables with only lower bounds:      900\n",
      "                variables with lower and upper bounds:      302\n",
      "                     variables with only upper bounds:        0\n",
      "Total number of equality constraints.................:     1803\n",
      "Total number of inequality constraints...............:        0\n",
      "        inequality constraints with only lower bounds:        0\n",
      "   inequality constraints with lower and upper bounds:        0\n",
      "        inequality constraints with only upper bounds:        0\n",
      "\n",
      "iter    objective    inf_pr   inf_du lg(mu)  ||d||  lg(rg) alpha_du alpha_pr  ls\n",
      "   0  5.0235374e+04 3.97e-03 1.02e+04  -1.0 0.00e+00    -  0.00e+00 0.00e+00   0\n",
      "   1  4.8259249e+04 3.72e-03 9.50e+03  -1.0 3.59e+00   4.0 1.44e-02 6.40e-02f  1\n",
      "   2  4.8179178e+04 3.71e-03 9.48e+03  -1.0 3.41e+00   3.5 2.28e-01 1.92e-03f  1\n",
      "   3  4.6602080e+04 3.59e-03 9.18e+03  -1.0 3.45e+00   3.0 1.23e-01 3.24e-02f  1\n",
      "   4  4.4351065e+04 3.43e-03 8.78e+03  -1.0 4.25e+00   2.6 2.98e-01 4.37e-02f  1\n",
      "   5  2.2615865e+04 3.03e-04 9.54e+03  -1.0 3.13e+00   3.0 1.55e-01 9.30e-01f  1\n",
      "   6  2.2229156e+04 2.42e-04 7.47e+03  -1.0 3.23e-01   2.5 1.66e-01 2.00e-01f  1\n",
      "   7  2.2032505e+04 2.04e-04 6.24e+03  -1.0 2.69e-01   2.0 7.84e-02 1.58e-01f  1\n",
      "   8  2.2138743e+04 1.06e-04 5.54e+03  -1.0 3.38e-01   1.6 7.80e-01 4.74e-01h  1\n",
      "   9  2.1593461e+04 6.57e-05 3.44e+03  -1.0 1.12e-01   3.8 1.00e+00 3.80e-01f  1\n",
      "iter    objective    inf_pr   inf_du lg(mu)  ||d||  lg(rg) alpha_du alpha_pr  ls\n",
      "  10  2.1203585e+04 2.48e-07 1.26e+02  -1.0 7.02e-02   3.3 1.00e+00 1.00e+00f  1\n",
      "  11  2.1083848e+04 4.41e-08 1.52e+02  -2.5 2.17e-02   2.8 8.10e-01 8.80e-01f  1\n",
      "  12  2.0803406e+04 2.93e-07 5.99e+02  -2.5 6.61e-02   2.4 3.68e-01 6.66e-01f  1\n",
      "  13  2.0587907e+04 3.71e-06 4.50e+03  -2.5 2.01e-01   1.9 1.10e-01 7.05e-01f  1\n",
      "  14  1.9754718e+04 1.20e-07 2.25e+02  -2.5 3.59e-02   3.2 2.43e-01 1.00e+00f  1\n",
      "  15  1.9631577e+04 1.18e-07 2.38e+02  -2.5 3.98e-02   2.7 2.14e-01 5.12e-01f  1\n",
      "  16  1.9429220e+04 2.87e-07 4.23e+02  -2.5 8.69e-02   2.3 1.50e-01 3.24e-01f  1\n",
      "  17  1.9000148e+04 7.52e-06 5.58e+03  -2.5 1.96e-01   1.8 8.54e-02 7.92e-01f  1\n",
      "  18  1.8988646e+04 7.45e-06 5.53e+03  -2.5 4.99e-02   3.1 1.61e-01 9.53e-03f  1\n",
      "  19  1.8941404e+04 7.17e-06 5.32e+03  -2.5 7.30e-02   2.6 5.81e-02 3.74e-02f  1\n",
      "iter    objective    inf_pr   inf_du lg(mu)  ||d||  lg(rg) alpha_du alpha_pr  ls\n",
      "  20  1.8751496e+04 5.84e-06 4.33e+03  -2.5 4.95e-02   3.1 8.24e-02 1.86e-01f  1\n",
      "  21  1.8682925e+04 5.36e-06 3.97e+03  -2.5 6.62e-02   2.6 1.34e-01 8.28e-02f  1\n",
      "  22  1.8386572e+04 2.23e-06 1.63e+03  -2.5 4.19e-02   3.0 1.19e-01 5.91e-01f  1\n",
      "  23  1.8385476e+04 2.22e-06 1.63e+03  -2.5 4.99e-02   2.5 8.28e-02 4.09e-03f  1\n",
      "  24  1.8241265e+04 1.70e-06 1.04e+03  -2.5 1.07e-01   2.1 1.66e-01 3.46e-01f  1\n",
      "  25  1.8007300e+04 2.18e-06 1.88e+02  -2.5 2.34e-01   1.6 4.32e-02 3.47e-01f  1\n",
      "  26  1.7891155e+04 7.30e-06 5.21e+03  -2.5 5.67e-01    -  2.00e-01 3.63e-01f  1\n",
      "  27  1.7717351e+04 5.02e-06 3.58e+03  -2.5 4.82e-02   2.9 1.28e-02 3.11e-01f  1\n",
      "  28  1.7717163e+04 5.02e-06 3.58e+03  -2.5 1.66e-01   2.4 9.83e-01 3.50e-04f  1\n",
      "  29  1.7597996e+04 2.86e-06 2.02e+03  -2.5 4.01e-02   2.9 7.30e-02 4.31e-01f  1\n",
      "iter    objective    inf_pr   inf_du lg(mu)  ||d||  lg(rg) alpha_du alpha_pr  ls\n",
      "  30  1.7597435e+04 2.86e-06 2.02e+03  -2.5 8.63e-01    -  4.83e-01 4.87e-04f  1\n",
      "  31  1.7584832e+04 2.54e-06 1.79e+03  -2.5 1.97e-02    -  6.47e-01 1.13e-01f  1\n",
      "  32  1.7536653e+04 8.03e-08 5.66e+01  -2.5 1.72e-02    -  9.64e-01 1.00e+00f  1\n",
      "  33  1.7535649e+04 7.42e-10 1.48e+00  -2.5 2.66e-03    -  1.00e+00 1.00e+00f  1\n",
      "  34  1.7535623e+04 6.34e-13 1.47e-03  -3.8 7.90e-05    -  1.00e+00 1.00e+00f  1\n",
      "  35  1.7535622e+04 5.69e-17 3.15e-06  -5.7 6.92e-06    -  1.00e+00 1.00e+00f  1\n",
      "  36  1.7535622e+04 1.06e-17 3.79e-10  -8.6 7.60e-08    -  1.00e+00 1.00e+00f  1\n",
      "\n",
      "Number of Iterations....: 36\n",
      "\n",
      "                                   (scaled)                 (unscaled)\n",
      "Objective...............:   1.7535621740156133e+04    1.7535621740156133e+04\n",
      "Dual infeasibility......:   3.7858956974903834e-10    2.4164807305619550e-07\n",
      "Constraint violation....:   1.0564194918155634e-17    1.0564194918155634e-17\n",
      "Complementarity.........:   2.5490927783247710e-09    2.5490927783247710e-09\n",
      "Overall NLP error.......:   2.5490927783247710e-09    2.4164807305619550e-07\n",
      "\n",
      "\n",
      "Number of objective function evaluations             = 37\n",
      "Number of objective gradient evaluations             = 37\n",
      "Number of equality constraint evaluations            = 37\n",
      "Number of inequality constraint evaluations          = 0\n",
      "Number of equality constraint Jacobian evaluations   = 37\n",
      "Number of inequality constraint Jacobian evaluations = 0\n",
      "Number of Lagrangian Hessian evaluations             = 36\n",
      "Total CPU secs in IPOPT (w/o function evaluations)   =      7.656\n",
      "Total CPU secs in NLP function evaluations           =      3.676\n",
      "\n",
      "EXIT: Optimal Solution Found.\n"
     ]
    }
   ],
   "source": [
    "options = dict()\n",
    "options['nlp_scaling_method'] = 'user-scaling'\n",
    "\n",
    "results_pyomo = p_estimator.run_opt('ipopt',\n",
    "                                  tee=True,\n",
    "                                  solver_opts = options,\n",
    "                                  variances=sigmas)\n"
   ]
  },
  {
   "cell_type": "markdown",
   "metadata": {},
   "source": [
    "Where the additional argument, variances = sigmas, refers to the fact that we are including the variances calculated by the VarianceEstimator."
   ]
  },
  {
   "cell_type": "markdown",
   "metadata": {},
   "source": [
    "### Visualize the Results"
   ]
  },
  {
   "cell_type": "code",
   "execution_count": 35,
   "metadata": {},
   "outputs": [
    {
     "name": "stdout",
     "output_type": "stream",
     "text": [
      "The estimated parameters are:\n",
      "k1 0.2618063661921968\n",
      "k2 1.0\n"
     ]
    },
    {
     "data": {
      "image/png": "[encoded data removed]",
      "text/plain": [
       "<Figure size 432x288 with 1 Axes>"
      ]
     },
     "metadata": {
      "needs_background": "light"
     },
     "output_type": "display_data"
    },
    {
     "data": {
      "image/png": "[encoded data removed]",
      "text/plain": [
       "<Figure size 432x288 with 1 Axes>"
      ]
     },
     "metadata": {
      "needs_background": "light"
     },
     "output_type": "display_data"
    }
   ],
   "source": [
    " print(\"The estimated parameters are:\")\n",
    "for k, v in results_pyomo.P.items():\n",
    "    print(k, v)\n",
    "\n",
    "\n",
    "results_pyomo.C.plot.line(legend=True)\n",
    "plt.xlabel(\"time (s)\")\n",
    "plt.ylabel(\"Concentration (mol/L)\")\n",
    "plt.title(\"Concentration Profile\")\n",
    "\n",
    "results_pyomo.S.plot.line(legend=True)\n",
    "plt.xlabel(\"Wavelength (cm)\")\n",
    "plt.ylabel(\"Absorbance (L/(mol cm))\")\n",
    "plt.title(\"Absorbance  Profile\")\n",
    "\n",
    "plt.show()"
   ]
  },
  {
   "cell_type": "markdown",
   "metadata": {},
   "source": [
    "### Confidence intervals\n",
    "\n",
    "If the user would like to assess the level of confidence in the estimated parameters the run_opt function needs to be changed. And example of this is found in the Example labeled “Ex_2_estimation_conf.py” in the Examples folder. Firstly the ‘k_aug’ solver needs to be called. Additionally, the option for the covariance needs to be changed from the default. More information on the ParameterEstimator function is found in section 5."
   ]
  }
 ],
 "metadata": {
  "kernelspec": {
   "display_name": "Python Kipet",
   "language": "python",
   "name": "kipet_env"
  },
  "language_info": {
   "codemirror_mode": {
    "name": "ipython",
    "version": 3
   },
   "file_extension": ".py",
   "mimetype": "text/x-python",
   "name": "python",
   "nbconvert_exporter": "python",
   "pygments_lexer": "ipython3",
   "version": "3.8.2"
  }
 },
 "nbformat": 4,
 "nbformat_minor": 4
}
