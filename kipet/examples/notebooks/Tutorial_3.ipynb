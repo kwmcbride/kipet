{
 "cells": [
  {
   "cell_type": "markdown",
   "metadata": {},
   "source": [
    "# Tutorial 3 – Advanced reaction systems with additional states"
   ]
  },
  {
   "cell_type": "markdown",
   "metadata": {},
   "source": [
    "It is also possible to combine additional complementary states, equations and variables into a KIPET model. In the example labeled “Ex_3_complementary.py” an example is solved that includes a temperature and volume change."
   ]
  },
  {
   "cell_type": "markdown",
   "metadata": {},
   "source": [
    "### Load required modules"
   ]
  },
  {
   "cell_type": "code",
   "execution_count": 5,
   "metadata": {},
   "outputs": [],
   "source": [
    "import sys\n",
    "\n",
    "import matplotlib.pyplot as plt\n",
    "from pyomo.core import *\n",
    "\n",
    "from kipet.library.TemplateBuilder import *\n",
    "from kipet.library.PyomoSimulator import *"
   ]
  },
  {
   "cell_type": "markdown",
   "metadata": {},
   "source": [
    "In this example the model is defined in the same way as was shown before, however this time complementary state variable temperature is added using the following KIPET function:\n"
   ]
  },
  {
   "cell_type": "code",
   "execution_count": 6,
   "metadata": {},
   "outputs": [],
   "source": [
    "builder = TemplateBuilder()    \n",
    "builder.add_mixture_component('A',1.0)\n",
    "builder.add_mixture_component('B',0.0)\n",
    "builder.add_mixture_component('C',0.0)\n",
    "\n",
    "# Complemetary states added here:\n",
    "builder.add_complementary_state_variable('T',290.0)\n",
    "builder.add_complementary_state_variable('V',100.0)"
   ]
  },
  {
   "cell_type": "markdown",
   "metadata": {},
   "source": [
    "This function now adds additional variables to the model, labeled “X”. This same formulation can be used to add any sort of additional complementary state information to the model. Now, similarly to with the components, each complementary state will require an ODE to accompany it. In the case of this tutorial example the following ODEs are defined:"
   ]
  },
  {
   "cell_type": "code",
   "execution_count": 7,
   "metadata": {},
   "outputs": [],
   "source": [
    "def rule_odes(m,t):\n",
    "    k1 = 1.25*exp((9500/1.987)*(1/320.0-1/m.X[t,'T']))\n",
    "    k2 = 0.08*exp((7000/1.987)*(1/290.0-1/m.X[t,'T']))\n",
    "    ra = -k1*m.Z[t,'A']\n",
    "    rb = 0.5*k1*m.Z[t,'A']-k2*m.Z[t,'B']\n",
    "    rc = 3*k2*m.Z[t,'B']\n",
    "    cao = 4.0\n",
    "    vo = 240\n",
    "    T1 = 35000*(298-m.X[t,'T'])\n",
    "    T2 = 4*240*30.0*(m.X[t,'T']-305.0)\n",
    "    T3 = m.X[t,'V']*(6500.0*k1*m.Z[t,'A']-8000.0*k2*m.Z[t,'B'])\n",
    "    Den = (30*m.Z[t,'A']+60*m.Z[t,'B']+20*m.Z[t,'C'])*m.X[t,'V']+3500.0\n",
    "    exprs = dict()\n",
    "    exprs['A'] = ra+(cao-m.Z[t,'A'])/m.X[t,'V']\n",
    "    exprs['B'] = rb-m.Z[t,'B']*vo/m.X[t,'V']\n",
    "    exprs['C'] = rc-m.Z[t,'C']*vo/m.X[t,'V']\n",
    "    exprs['T'] = (T1+T2+T3)/Den\n",
    "    exprs['V'] = vo\n",
    "    return exprs\n",
    "\n",
    "builder.set_odes_rule(rule_odes)\n",
    "\n",
    "# Then we can create an instance of a pyomo model template as before    \n",
    "pyomo_model = builder.create_pyomo_model(0.0,2.0)"
   ]
  },
  {
   "cell_type": "markdown",
   "metadata": {},
   "source": [
    "Where “m.X[t,'V']” and “m.X[t,'T']” are the additional state variables and “m.Z[t,component]” is the concentration of the component at time t. We can then simulate the model (or use experimental data if available and estimate the parameters) in the same way as described in the previous examples. Please follow the rest of the code and run the examples to obtain the output."
   ]
  },
  {
   "cell_type": "code",
   "execution_count": 8,
   "metadata": {
    "collapsed": true,
    "jupyter": {
     "outputs_hidden": true
    }
   },
   "outputs": [
    {
     "name": "stdout",
     "output_type": "stream",
     "text": [
      "Ipopt 3.13.2: \n",
      "\n",
      "******************************************************************************\n",
      "This program contains Ipopt, a library for large-scale nonlinear optimization.\n",
      " Ipopt is released as open source code under the Eclipse Public License (EPL).\n",
      "         For more information visit http://projects.coin-or.org/Ipopt\n",
      "******************************************************************************\n",
      "\n",
      "This is Ipopt version 3.13.2, running with linear solver ma27.\n",
      "\n",
      "Number of nonzeros in equality constraint Jacobian...:      725\n",
      "Number of nonzeros in inequality constraint Jacobian.:        0\n",
      "Number of nonzeros in Lagrangian Hessian.............:      300\n",
      "\n",
      "Total number of variables............................:      205\n",
      "                     variables with only lower bounds:        0\n",
      "                variables with lower and upper bounds:        0\n",
      "                     variables with only upper bounds:        0\n",
      "Total number of equality constraints.................:      205\n",
      "Total number of inequality constraints...............:        0\n",
      "        inequality constraints with only lower bounds:        0\n",
      "   inequality constraints with lower and upper bounds:        0\n",
      "        inequality constraints with only upper bounds:        0\n",
      "\n",
      "iter    objective    inf_pr   inf_du lg(mu)  ||d||  lg(rg) alpha_du alpha_pr  ls\n",
      "   0  0.0000000e+00 2.40e+02 0.00e+00  -1.0 0.00e+00    -  0.00e+00 0.00e+00   0\n",
      "   1  0.0000000e+00 5.01e+01 0.00e+00  -1.0 4.80e+02    -  1.00e+00 1.00e+00h  1\n",
      "   2  0.0000000e+00 2.50e+01 0.00e+00  -1.0 3.02e+01    -  1.00e+00 5.00e-01h  2\n",
      "   3  0.0000000e+00 1.00e+01 0.00e+00  -1.0 2.17e+01    -  1.00e+00 5.00e-01h  2\n",
      "   4  0.0000000e+00 9.40e+00 0.00e+00  -1.0 4.16e+01    -  1.00e+00 2.50e-01h  3\n",
      "   5  0.0000000e+00 9.54e+00 0.00e+00  -1.0 6.61e+01    -  1.00e+00 1.25e-01h  4\n",
      "   6  0.0000000e+00 9.29e+00 0.00e+00  -1.0 8.14e+01    -  1.00e+00 6.25e-02h  5\n",
      "   7  0.0000000e+00 9.03e+00 0.00e+00  -1.0 8.98e+01    -  1.00e+00 6.25e-02h  5\n",
      "   8  0.0000000e+00 8.74e+00 0.00e+00  -1.0 9.87e+01    -  1.00e+00 6.25e-02h  5\n",
      "   9  0.0000000e+00 8.42e+00 0.00e+00  -1.0 1.08e+02    -  1.00e+00 6.25e-02h  5\n",
      "iter    objective    inf_pr   inf_du lg(mu)  ||d||  lg(rg) alpha_du alpha_pr  ls\n",
      "  10  0.0000000e+00 8.06e+00 0.00e+00  -1.0 1.17e+02    -  1.00e+00 6.25e-02h  5\n",
      "  11  0.0000000e+00 7.68e+00 0.00e+00  -1.0 1.26e+02    -  1.00e+00 6.25e-02h  5\n",
      "  12  0.0000000e+00 1.39e+03 0.00e+00  -1.0 1.32e+02    -  1.00e+00 1.00e+00w  1\n",
      "  13  0.0000000e+00 6.23e+03 0.00e+00  -1.0 7.36e+02    -  1.00e+00 1.00e+00w  1\n",
      "  14  0.0000000e+00 1.99e+03 0.00e+00  -1.0 2.37e+02    -  1.00e+00 1.00e+00w  1\n",
      "  15  0.0000000e+00 7.28e+00 0.00e+00  -1.0 1.49e+02    -  1.00e+00 6.25e-02h  4\n",
      "  16  0.0000000e+00 6.89e+00 0.00e+00  -1.0 1.37e+02    -  1.00e+00 6.25e-02h  5\n",
      "  17  0.0000000e+00 6.50e+00 0.00e+00  -1.0 1.49e+02    -  1.00e+00 6.25e-02h  5\n",
      "  18  0.0000000e+00 6.12e+00 0.00e+00  -1.0 1.60e+02    -  1.00e+00 6.25e-02h  5\n",
      "  19  0.0000000e+00 6.17e+00 0.00e+00  -1.0 1.71e+02    -  1.00e+00 6.25e-02h  5\n",
      "iter    objective    inf_pr   inf_du lg(mu)  ||d||  lg(rg) alpha_du alpha_pr  ls\n",
      "  20  0.0000000e+00 6.33e+00 0.00e+00  -1.0 1.80e+02    -  1.00e+00 6.25e-02h  5\n",
      "  21  0.0000000e+00 6.67e+00 0.00e+00  -1.0 1.86e+02    -  1.00e+00 6.25e-02h  5\n",
      "  22  0.0000000e+00 6.81e+00 0.00e+00  -1.0 1.87e+02    -  1.00e+00 6.25e-02h  5\n",
      "  23  0.0000000e+00 6.87e+00 0.00e+00  -1.0 1.83e+02    -  1.00e+00 6.25e-02h  5\n",
      "  24  0.0000000e+00 7.29e+00 0.00e+00  -1.0 1.73e+02    -  1.00e+00 6.25e-02h  5\n",
      "  25  0.0000000e+00 7.64e+02 0.00e+00  -1.0 1.69e+02    -  1.00e+00 1.00e+00w  1\n",
      "  26  0.0000000e+00 2.51e+02 0.00e+00  -1.0 3.75e+02    -  1.00e+00 1.00e+00w  1\n",
      "  27  0.0000000e+00 3.65e+01 0.00e+00  -1.0 1.22e+02    -  1.00e+00 1.00e+00w  1\n",
      "  28  0.0000000e+00 1.77e+00 0.00e+00  -1.0 1.73e+01    -  1.00e+00 1.00e+00h  1\n",
      "  29  0.0000000e+00 4.41e-03 0.00e+00  -1.0 9.62e-01    -  1.00e+00 1.00e+00h  1\n",
      "iter    objective    inf_pr   inf_du lg(mu)  ||d||  lg(rg) alpha_du alpha_pr  ls\n",
      "  30  0.0000000e+00 2.75e-08 0.00e+00  -3.8 2.41e-03    -  1.00e+00 1.00e+00h  1\n",
      "  31  0.0000000e+00 9.09e-13 0.00e+00  -8.6 1.51e-08    -  1.00e+00 1.00e+00h  1\n",
      "\n",
      "Number of Iterations....: 31\n",
      "\n",
      "                                   (scaled)                 (unscaled)\n",
      "Objective...............:   0.0000000000000000e+00    0.0000000000000000e+00\n",
      "Dual infeasibility......:   0.0000000000000000e+00    0.0000000000000000e+00\n",
      "Constraint violation....:   9.0949470177292824e-13    9.0949470177292824e-13\n",
      "Complementarity.........:   0.0000000000000000e+00    0.0000000000000000e+00\n",
      "Overall NLP error.......:   9.0949470177292824e-13    9.0949470177292824e-13\n",
      "\n",
      "\n",
      "Number of objective function evaluations             = 130\n",
      "Number of objective gradient evaluations             = 32\n",
      "Number of equality constraint evaluations            = 130\n",
      "Number of inequality constraint evaluations          = 0\n",
      "Number of equality constraint Jacobian evaluations   = 32\n",
      "Number of inequality constraint Jacobian evaluations = 0\n",
      "Number of Lagrangian Hessian evaluations             = 31\n",
      "Total CPU secs in IPOPT (w/o function evaluations)   =      0.048\n",
      "Total CPU secs in NLP function evaluations           =      0.000\n",
      "\n",
      "EXIT: Optimal Solution Found.\n"
     ]
    }
   ],
   "source": [
    "# create instance of simulator since we wish to simulate the system\n",
    "simulator = PyomoSimulator(pyomo_model)\n",
    "\n",
    "# define the discretization scheme for the concentration and temperature profiles\n",
    "simulator.apply_discretization('dae.collocation',nfe=20,ncp=1,scheme='LAGRANGE-RADAU')\n",
    "\n",
    "# simulate\n",
    "results_pyomo = simulator.run_sim('ipopt',tee=True)"
   ]
  },
  {
   "cell_type": "code",
   "execution_count": 11,
   "metadata": {},
   "outputs": [
    {
     "data": {
      "image/png": "[encoded data removed]",
      "text/plain": [
       "<Figure size 432x288 with 1 Axes>"
      ]
     },
     "metadata": {
      "needs_background": "light"
     },
     "output_type": "display_data"
    },
    {
     "data": {
      "image/png": "[encoded data removed]",
      "text/plain": [
       "<Figure size 432x288 with 1 Axes>"
      ]
     },
     "metadata": {
      "needs_background": "light"
     },
     "output_type": "display_data"
    }
   ],
   "source": [
    "results_pyomo.Z.plot.line(legend=True)\n",
    "plt.xlabel(\"time (s)\")\n",
    "plt.ylabel(\"Concentration (mol/L)\")\n",
    "plt.title(\"Concentration Profile\")\n",
    "\n",
    "\n",
    "results_pyomo.X.plot.line(legend=True)\n",
    "plt.ylim([100,600])\n",
    "plt.xlabel(\"time (s)\")\n",
    "plt.ylabel(\"Temperature (K) / Volume (mL)\")\n",
    "plt.title(\"Complementary State Profiles\")\n",
    "\n",
    "plt.show()"
   ]
  }
 ],
 "metadata": {
  "kernelspec": {
   "display_name": "Python Kipet",
   "language": "python",
   "name": "kipet_env"
  },
  "language_info": {
   "codemirror_mode": {
    "name": "ipython",
    "version": 3
   },
   "file_extension": ".py",
   "mimetype": "text/x-python",
   "name": "python",
   "nbconvert_exporter": "python",
   "pygments_lexer": "ipython3",
   "version": "3.8.2"
  }
 },
 "nbformat": 4,
 "nbformat_minor": 4
}
