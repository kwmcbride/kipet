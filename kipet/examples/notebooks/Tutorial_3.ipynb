{
 "cells": [
  {
   "cell_type": "markdown",
   "metadata": {},
   "source": [
    "# Tutorial 3 – Advanced reaction systems with additional states"
   ]
  },
  {
   "cell_type": "markdown",
   "metadata": {},
   "source": [
    "It is also possible to combine additional complementary states, equations and variables into a KIPET model. In the example labeled “Ex_3_complementary.py” an example is solved that includes a temperature and volume change."
   ]
  },
  {
   "cell_type": "markdown",
   "metadata": {},
   "source": [
    "### Load required modules"
   ]
  },
  {
   "cell_type": "code",
   "execution_count": null,
   "metadata": {},
   "outputs": [],
   "source": [
    "import sys\n",
    "\n",
    "import matplotlib.pyplot as plt\n",
    "from pyomo.core import *\n",
    "\n",
    "from kipet.library.TemplateBuilder import *\n",
    "from kipet.library.PyomoSimulator import *"
   ]
  },
  {
   "cell_type": "markdown",
   "metadata": {},
   "source": [
    "In this example the model is defined in the same way as was shown before, however this time complementary state variable temperature is added using the following KIPET function:\n"
   ]
  },
  {
   "cell_type": "code",
   "execution_count": null,
   "metadata": {},
   "outputs": [],
   "source": [
    "builder = TemplateBuilder()    \n",
    "builder.add_mixture_component('A',1.0)\n",
    "builder.add_mixture_component('B',0.0)\n",
    "builder.add_mixture_component('C',0.0)\n",
    "\n",
    "# Complemetary states added here:\n",
    "builder.add_complementary_state_variable('T',290.0)\n",
    "builder.add_complementary_state_variable('V',100.0)"
   ]
  },
  {
   "cell_type": "markdown",
   "metadata": {},
   "source": [
    "This function now adds additional variables to the model, labeled “X”. This same formulation can be used to add any sort of additional complementary state information to the model. Now, similarly to with the components, each complementary state will require an ODE to accompany it. In the case of this tutorial example the following ODEs are defined:"
   ]
  },
  {
   "cell_type": "code",
   "execution_count": null,
   "metadata": {},
   "outputs": [],
   "source": [
    "def rule_odes(m,t):\n",
    "    k1 = 1.25*exp((9500/1.987)*(1/320.0-1/m.X[t,'T']))\n",
    "    k2 = 0.08*exp((7000/1.987)*(1/290.0-1/m.X[t,'T']))\n",
    "    ra = -k1*m.Z[t,'A']\n",
    "    rb = 0.5*k1*m.Z[t,'A']-k2*m.Z[t,'B']\n",
    "    rc = 3*k2*m.Z[t,'B']\n",
    "    cao = 4.0\n",
    "    vo = 240\n",
    "    T1 = 35000*(298-m.X[t,'T'])\n",
    "    T2 = 4*240*30.0*(m.X[t,'T']-305.0)\n",
    "    T3 = m.X[t,'V']*(6500.0*k1*m.Z[t,'A']-8000.0*k2*m.Z[t,'B'])\n",
    "    Den = (30*m.Z[t,'A']+60*m.Z[t,'B']+20*m.Z[t,'C'])*m.X[t,'V']+3500.0\n",
    "    exprs = dict()\n",
    "    exprs['A'] = ra+(cao-m.Z[t,'A'])/m.X[t,'V']\n",
    "    exprs['B'] = rb-m.Z[t,'B']*vo/m.X[t,'V']\n",
    "    exprs['C'] = rc-m.Z[t,'C']*vo/m.X[t,'V']\n",
    "    exprs['T'] = (T1+T2+T3)/Den\n",
    "    exprs['V'] = vo\n",
    "    return exprs\n",
    "\n",
    "builder.set_odes_rule(rule_odes)\n",
    "\n",
    "# Then we can create an instance of a pyomo model template as before    \n",
    "pyomo_model = builder.create_pyomo_model(0.0,2.0)"
   ]
  },
  {
   "cell_type": "markdown",
   "metadata": {},
   "source": [
    "Where “m.X[t,'V']” and “m.X[t,'T']” are the additional state variables and “m.Z[t,component]” is the concentration of the component at time t. We can then simulate the model (or use experimental data if available and estimate the parameters) in the same way as described in the previous examples. Please follow the rest of the code and run the examples to obtain the output."
   ]
  },
  {
   "cell_type": "code",
   "execution_count": null,
   "metadata": {},
   "outputs": [],
   "source": [
    "# create instance of simulator since we wish to simulate the system\n",
    "simulator = PyomoSimulator(pyomo_model)\n",
    "\n",
    "# define the discretization scheme for the concentration and temperature profiles\n",
    "simulator.apply_discretization('dae.collocation',nfe=20,ncp=1,scheme='LAGRANGE-RADAU')\n",
    "\n",
    "# simulate\n",
    "results_pyomo = simulator.run_sim('ipopt',tee=True)"
   ]
  },
  {
   "cell_type": "code",
   "execution_count": null,
   "metadata": {},
   "outputs": [],
   "source": [
    "results_pyomo.Z.plot.line(legend=True)\n",
    "plt.xlabel(\"time (s)\")\n",
    "plt.ylabel(\"Concentration (mol/L)\")\n",
    "plt.title(\"Concentration Profile\")\n",
    "\n",
    "\n",
    "results_pyomo.X.plot.line(legend=True)\n",
    "plt.ylim([100,600])\n",
    "plt.xlabel(\"time (s)\")\n",
    "plt.ylabel(\"Temperature (K) / Volume (mL)\")\n",
    "plt.title(\"Complementary State Profiles\")\n",
    "\n",
    "plt.show()"
   ]
  }
 ],
 "metadata": {
  "kernelspec": {
   "display_name": "Python Kipet",
   "language": "python",
   "name": "kipet_env"
  },
  "language_info": {
   "codemirror_mode": {
    "name": "ipython",
    "version": 3
   },
   "file_extension": ".py",
   "mimetype": "text/x-python",
   "name": "python",
   "nbconvert_exporter": "python",
   "pygments_lexer": "ipython3",
   "version": "3.8.2"
  }
 },
 "nbformat": 4,
 "nbformat_minor": 4
}
