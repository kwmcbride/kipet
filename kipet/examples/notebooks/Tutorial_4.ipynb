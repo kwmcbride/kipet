{
 "cells": [
  {
   "cell_type": "markdown",
   "metadata": {},
   "source": [
    "# Tutorial 4 – Simulation of Advanced Reaction system with Algebraic equations\n",
    "\n",
    "Now that complementary states are understood we can explain perhaps the most conceptually difficult part in KIPET, the idea of algebraic variables. The terms algebraics and algebraic variables are used in KIPET when referring to equations and variables in larger models that can be used to determine the ODEs where we have a number of states and equations. This can be illustrated with the Aspirin case study from Chen et al. (2016) where we have the more complex reaction mechanism:\n",
    "\n",
    "$$\\require{mhchem}$$ \n",
    "$\\ce{SA + AA ->[k_1] ASA + HA}$\n",
    "\n",
    "$\\ce{ASA + AA ->[k_2] ASAA + HA}$\n",
    "\n",
    "$\\ce{ASAA + H_2O ->[k_3] ASA + HA}$\n",
    "\n",
    "$\\ce{AA + H_2O ->[k_4] 2 HA}$\n",
    "\n",
    "$\\ce{SA(s) ->[k_d] SA(l)}$\n",
    "\n",
    "$\\ce{ASA(l) ->[k_c] ASA(s)}$\n",
    "\n",
    "\n",
    "\n",
    "With the rate laws being:\n",
    "\n",
    "$\\begin{align}\n",
    "r_1 &= k_1\\cdot c_{SA}(t)\\cdot c_{AA}(t)\\\\\n",
    "r_2 &= k_2\\cdot c_{ASA}(t)\\cdot c_{AA}(t)\\\\\n",
    "r_3 &= k_3\\cdot c_{ASAA}(t)\\cdot c_{H_2O}(t)\\\\\n",
    "r_4 &= k_4\\cdot c_{AA}(t)\\cdot c_{H_2O}(t)\\\\\n",
    "r_d &=\n",
    "    \\begin{cases}\n",
    "      k_d\\left(c_{SA}^{sat}(T) - c_{SA}(t)\\right)^d, & \\text{if}\\ m_{SA}(t) \\geq 0 \\\\\n",
    "      0, & \\text{if}\\ m_{SA}(t) \\lt 0\n",
    "    \\end{cases}\\\\\n",
    "r_g &= k_c\\left(\\max (c_{ASA}(t) - c_{ASA}^{sat}(T),\\ 0)\\right)^c\n",
    "\\end{align}$"
   ]
  },
  {
   "cell_type": "markdown",
   "metadata": {},
   "source": [
    "And these can then be used to describe the concentrations of the liquid and solid components with the ODEs:\n",
    "\n",
    "$\\begin{align}\n",
    "\\dot{m}_{SA} &= -M_{SA}V_{r_d}\\\\\n",
    "\\dot{c}_{SA} &= r_{d} - r_{1} - \\frac{\\dot{V}}{V}c_{SA}\\\\\n",
    "\\dot{c}_{AA} &= -r_{1} - r_{2} - r_{4} - \\frac{\\dot{V}}{V}c_{AA}\\\\\n",
    "\\dot{m}_{SA} &= -M_{SA}V_{r_d}\\\\\n",
    "\\dot{c}_{SA} &= r_{d} - r_{1} - \\frac{\\dot{V}}{V}c_{SA}\\\\\n",
    "\\dot{c}_{AA} &= -r_{1} - r_{2} - r_{4} - \\frac{\\dot{V}}{V}c_{AA}\\\\\n",
    "\\dot{c}_{HA} &= r_{1} + r_{2} + r_{3} + 2r_4 - \\frac{\\dot{V}}{V}c_{HA}\\\\\n",
    "\\dot{m}_{ASA} &= M_{ASA}V_{r_g}\\\\\n",
    "\\dot{c}_{ASA} &= r_{1} - r_{2} + r_{3} - r_g - \\frac{\\dot{V}}{V}c_{ASA}\\\\\n",
    "\\dot{c}_{ASAA} &= r_{2} - r_{3} - \\frac{\\dot{V}}{V}c_{ASAA}\\\\\n",
    "\\dot{c}_{H_2O} &= -r_{3} - r_{4} + \\frac{f}{V}c_{H_2O}^{in} - \\frac{\\dot{V}}{V}c_{H_2O}\\\\\n",
    "\\dot{V} &= V \\sum_{i=1}^{ns}v_i \\left( \\sum_{j=1}^{4}\\gamma_{i,j}r_j + \\gamma_{i,d}r_d + \\gamma_{i,c}r_c + \\epsilon_i\\frac{f}{V}c_{H_2O}^{in}\\right)\n",
    "\\end{align}$"
   ]
  },
  {
   "cell_type": "markdown",
   "metadata": {},
   "source": [
    "### Load required modules"
   ]
  },
  {
   "cell_type": "code",
   "execution_count": null,
   "metadata": {},
   "outputs": [],
   "source": [
    "import os\n",
    "import sys\n",
    "\n",
    "import matplotlib.pyplot as plt\n",
    "import numpy as np\n",
    "\n",
    "from kipet.library.common.charts import make_plot\n",
    "from kipet.library.data_tools import *\n",
    "from kipet.library.ParameterEstimator import *\n",
    "from kipet.library.PyomoSimulator import *\n",
    "from kipet.library.TemplateBuilder import *\n",
    "from kipet.library.VarianceEstimator import *"
   ]
  },
  {
   "cell_type": "markdown",
   "metadata": {},
   "source": [
    "### Read and Prepare Data"
   ]
  },
  {
   "cell_type": "markdown",
   "metadata": {},
   "source": [
    "Several files are needed for this example.\n",
    "\n",
    "The external files are the csv’s and the option index_col is from pandas and refers to the column to use for the labels. Following this, external files are also used for the flow of water fed into the reactor, as well as the saturation concentrations of SA and ASA (functions of temperature, calculated externally)."
   ]
  },
  {
   "cell_type": "code",
   "execution_count": null,
   "metadata": {},
   "outputs": [],
   "source": [
    "dataDirectory = os.path.abspath(\n",
    "    os.path.join( os.path.dirname( os.path.abspath( inspect.getfile(\n",
    "        inspect.currentframe() ) ) ), '..', 'data_sets'))\n",
    "traj =  os.path.join(dataDirectory, 'extra_states.txt')\n",
    "conc =  os.path.join(dataDirectory,'concentrations.txt')    \n",
    "\n",
    "fixed_traj = read_absorption_data_from_txt(traj)\n",
    "C = read_absorption_data_from_txt(conc)\n",
    "\n",
    "meas_times=sorted(C.index)\n",
    "\n",
    "# How many measurement times are there\n",
    "nfe_x = len(meas_times)"
   ]
  },
  {
   "cell_type": "markdown",
   "metadata": {},
   "source": [
    "This example can be described by the equations 35 (which are the “algebraics” in KIPET) and the ODEs, equations 36. which will then be the ODEs defining the system, making use of the reaction rate laws from the algebraics. Translating these equations into code for KIPET we get the file found in Ex_4_sim_aspirin. In this example we need to declare new sets of states in addition to our components and parameters, as with Tutorial 3:"
   ]
  },
  {
   "cell_type": "code",
   "execution_count": null,
   "metadata": {},
   "outputs": [],
   "source": [
    "builder = TemplateBuilder()\n",
    "\n",
    "# components\n",
    "components = dict()\n",
    "components['SA'] = 1.0714                  # Salicitilc acid\n",
    "components['AA'] = 9.3828                  # Acetic anhydride\n",
    "components['ASA'] = 0.0177                 # Acetylsalicylic acid\n",
    "components['HA'] = 0.0177                  # Acetic acid\n",
    "components['ASAA'] = 0.000015              # Acetylsalicylic anhydride\n",
    "components['H2O'] = 0.0                    # Water\n",
    "\n",
    "builder.add_mixture_component(components)\n",
    "\n",
    "# add parameters\n",
    "params = dict()\n",
    "params['k0'] = 0.0360309\n",
    "params['k1'] = 0.1596062\n",
    "params['k2'] = 6.8032345\n",
    "params['k3'] = 1.8028763\n",
    "params['kd'] = 7.1108682\n",
    "params['kc'] = 0.7566864\n",
    "params['Csa'] = 2.06269996\n",
    "\n",
    "builder.add_parameter(params)\n",
    "\n",
    "# add additional state variables\n",
    "extra_states = dict()\n",
    "extra_states['V'] = 0.0202\n",
    "extra_states['Masa'] = 0.0\n",
    "extra_states['Msa'] = 9.537\n",
    "\n",
    "builder.add_complementary_state_variable(extra_states)"
   ]
  },
  {
   "cell_type": "markdown",
   "metadata": {},
   "source": [
    "with the initial values given. In addition we can declare our algebraic variables (the rate variables and other algebraics):"
   ]
  },
  {
   "cell_type": "code",
   "execution_count": null,
   "metadata": {},
   "outputs": [],
   "source": [
    "algebraics = ['f','r0','r1','r2','r3','r4','r5','v_sum','Csat']\n",
    "builder.add_algebraic_variable(algebraics)"
   ]
  },
  {
   "cell_type": "markdown",
   "metadata": {},
   "source": [
    "Where f represents the addition of liquid to the reactor during the batch reaction. For the final equation in the model (Equn 36) we also need to define the stoichiometric coefficients, gammas, and the epsilon for how the added water affects the changes in volume."
   ]
  },
  {
   "cell_type": "code",
   "execution_count": null,
   "metadata": {},
   "outputs": [],
   "source": [
    "gammas = dict()\n",
    "gammas['SA']=    [-1, 0, 0, 0, 1, 0]\n",
    "gammas['AA']=    [-1,-1, 0,-1, 0, 0]\n",
    "gammas['ASA']=   [ 1,-1, 1, 0, 0,-1]\n",
    "gammas['HA']=    [ 1, 1, 1, 2, 0, 0]\n",
    "gammas['ASAA']=  [ 0, 1,-1, 0, 0, 0]\n",
    "gammas['H2O']=   [ 0, 0,-1,-1, 0, 0]\n",
    "\n",
    "\n",
    "epsilon = dict()\n",
    "epsilon['SA']= 0.0\n",
    "epsilon['AA']= 0.0\n",
    "epsilon['ASA']= 0.0\n",
    "epsilon['HA']= 0.0\n",
    "epsilon['ASAA']= 0.0\n",
    "epsilon['H2O']= 1.0\n",
    "\n",
    "partial_vol = dict()\n",
    "partial_vol['SA']=0.0952552311614\n",
    "partial_vol['AA']=0.101672206869\n",
    "partial_vol['ASA']=0.132335206093\n",
    "partial_vol['HA']=0.060320218688\n",
    "partial_vol['ASAA']=0.186550717015\n",
    "partial_vol['H2O']=0.0883603912169"
   ]
  },
  {
   "cell_type": "markdown",
   "metadata": {},
   "source": [
    "To define the algebraic equations in Equn (35) we then use:"
   ]
  },
  {
   "cell_type": "code",
   "execution_count": null,
   "metadata": {},
   "outputs": [],
   "source": [
    "def rule_algebraics(m,t):\n",
    "    r = list()\n",
    "    r.append(m.Y[t,'r0']-m.P['k0']*m.Z[t,'SA']*m.Z[t,'AA'])\n",
    "    r.append(m.Y[t,'r1']-m.P['k1']*m.Z[t,'ASA']*m.Z[t,'AA'])\n",
    "    r.append(m.Y[t,'r2']-m.P['k2']*m.Z[t,'ASAA']*m.Z[t,'H2O'])\n",
    "    r.append(m.Y[t,'r3']-m.P['k3']*m.Z[t,'AA']*m.Z[t,'H2O'])\n",
    "\n",
    "    # dissolution rate\n",
    "    step = 1.0/(1.0+exp(-m.X[t,'Msa']/1e-4))\n",
    "    rd = m.P['kd']*(m.P['Csa']-m.Z[t,'SA']+1e-6)**1.90*step\n",
    "    r.append(m.Y[t,'r4']-rd)\n",
    "    #r.append(m.Y[t,'r4'])\n",
    "\n",
    "    # crystalization rate\n",
    "    diff = m.Z[t,'ASA'] - m.Y[t,'Csat']\n",
    "    rc = 0.3950206559*m.P['kc']*(diff+((diff)**2+1e-6)**0.5)**1.34\n",
    "    r.append(m.Y[t,'r5']-rc)\n",
    "\n",
    "    Cin = 39.1\n",
    "    v_sum = 0.0\n",
    "    V = m.X[t,'V']\n",
    "    f = m.Y[t,'f']\n",
    "    for c in m.mixture_components:\n",
    "        v_sum += partial_vol[c]*(sum(gammas[c][j]*m.Y[t,'r{}'.format(j)] for j in range(6))+ epsilon[c]*f/V*Cin)\n",
    "    r.append(m.Y[t,'v_sum']-v_sum)\n",
    "\n",
    "    return r\n",
    "\n",
    "builder.set_algebraics_rule(rule_algebraics)"
   ]
  },
  {
   "cell_type": "markdown",
   "metadata": {},
   "source": [
    "Where the algebraics are given the variable name m.Y[t,’r1’]. We can then use these algebraic equations to define our system of ODEs:"
   ]
  },
  {
   "cell_type": "code",
   "execution_count": null,
   "metadata": {},
   "outputs": [],
   "source": [
    "def rule_odes(m,t):\n",
    "    exprs = dict()\n",
    "\n",
    "    V = m.X[t,'V']\n",
    "    f = m.Y[t,'f']\n",
    "    Cin = 41.4\n",
    "    # volume balance\n",
    "    vol_sum = 0.0\n",
    "    for c in m.mixture_components:\n",
    "        vol_sum += partial_vol[c]*(sum(gammas[c][j]*m.Y[t,'r{}'.format(j)] for j in range(6))+ epsilon[c]*f/V*Cin)\n",
    "    exprs['V'] = V*m.Y[t,'v_sum']\n",
    "\n",
    "    # mass balances\n",
    "    for c in m.mixture_components:\n",
    "        exprs[c] = sum(gammas[c][j]*m.Y[t,'r{}'.format(j)] for j in range(6))+ epsilon[c]*f/V*Cin - m.Y[t,'v_sum']*m.Z[t,c]\n",
    "\n",
    "    exprs['Masa'] = 180.157*V*m.Y[t,'r5']\n",
    "    exprs['Msa'] = -138.121*V*m.Y[t,'r4']\n",
    "    return exprs\n",
    "\n",
    "builder.set_odes_rule(rule_odes)\n",
    "\n",
    "model = builder.create_pyomo_model(0.0,210.5257)  "
   ]
  },
  {
   "cell_type": "markdown",
   "metadata": {},
   "source": [
    "The rest can then be defined in the same way as other simulation problems. Note that in this problem the method for providing initializations from an external file is also shown with the lines:"
   ]
  },
  {
   "cell_type": "code",
   "execution_count": null,
   "metadata": {},
   "outputs": [],
   "source": [
    "sim = PyomoSimulator(model)\n",
    "# defines the discrete points wanted in the concentration profile\n",
    "sim.apply_discretization('dae.collocation',nfe=100,ncp=3,scheme='LAGRANGE-RADAU')\n",
    "fe_l = sim.model.alltime.get_finite_elements()\n",
    "fe_list = [fe_l[i + 1] - fe_l[i] for i in range(0, len(fe_l) - 1)]\n",
    "nfe = len(fe_list)  #: Create a list with the step-size\n",
    "print(nfe)\n",
    "\n",
    "filename_initZ = os.path.join(dataDirectory, 'init_Z.csv')#Use absolute paths\n",
    "initialization = pd.read_csv(filename_initZ, index_col=0)\n",
    "sim.initialize_from_trajectory('Z', initialization)\n",
    "filename_initX = os.path.join(dataDirectory, 'init_X.csv')#Use absolute paths\n",
    "initialization = pd.read_csv(filename_initX, index_col=0)\n",
    "sim.initialize_from_trajectory('X', initialization)\n",
    "filename_initY = os.path.join(dataDirectory, 'init_Y.csv')#Use absolute paths\n",
    "initialization = pd.read_csv(filename_initY, index_col=0)\n",
    "sim.initialize_from_trajectory('Y', initialization)\n",
    "\n",
    "sim.fix_from_trajectory('Y', 'Csat', fixed_traj)\n",
    "sim.fix_from_trajectory('Y', 'f', fixed_traj)\n",
    "\n",
    "with open(\"f0.txt\", \"w\") as f:\n",
    "    for t in sim.model.alltime:\n",
    "        val = value(sim.model.Y[t, 'f'])\n",
    "        f.write('\\t' + str(t) + '\\t' + str(val) + '\\n')\n",
    "    f.close()\n",
    "\n",
    "\n",
    "options = {'halt_on_ampl_error' :'yes'}\n",
    "results = sim.run_sim('ipopt',\n",
    "                      tee=True,\n",
    "                      solver_opts=options)"
   ]
  },
  {
   "cell_type": "markdown",
   "metadata": {},
   "source": [
    "### Visualization of Results"
   ]
  },
  {
   "cell_type": "code",
   "execution_count": null,
   "metadata": {},
   "outputs": [],
   "source": [
    "results.Z.plot.line(legend=True)\n",
    "plt.xlabel(\"time (s)\")\n",
    "plt.ylabel(\"Concentration (mol/L)\")\n",
    "plt.title(\"Concentration Profile\")\n",
    "\n",
    "C.plot()\n",
    "\n",
    "plt.figure()\n",
    "\n",
    "results.Y['Csat'].plot.line()\n",
    "plt.plot(fixed_traj['Csat'],'*')\n",
    "plt.xlabel(\"time (s)\")\n",
    "plt.ylabel(\"Csat\")\n",
    "plt.title(\"Saturation Concentration\")\n",
    "\n",
    "plt.figure()\n",
    "\n",
    "results.X['V'].plot.line()\n",
    "plt.plot(fixed_traj['V'],'*')\n",
    "plt.xlabel(\"time (s)\")\n",
    "plt.ylabel(\"volumne (L)\")\n",
    "plt.title(\"Volume Profile\")\n",
    "\n",
    "plt.figure()\n",
    "\n",
    "results.X['Msa'].plot.line()\n",
    "plt.plot(fixed_traj['Msa'],'*')\n",
    "plt.xlabel(\"time (s)\")\n",
    "plt.ylabel(\"m_dot (g)\")\n",
    "plt.title(\"Msa Profile\")\n",
    "\n",
    "plt.figure()\n",
    "results.Y['f'].plot.line()\n",
    "plt.xlabel(\"time (s)\")\n",
    "plt.ylabel(\"flow (K)\")\n",
    "plt.title(\"Inlet flow Profile\")\n",
    "\n",
    "plt.figure()\n",
    "results.X['Masa'].plot.line()\n",
    "plt.plot(fixed_traj['Masa'],'*')\n",
    "plt.xlabel(\"time (s)\")\n",
    "plt.ylabel(\"m_dot (g)\")\n",
    "plt.title(\"Masa Profile\")\n",
    "\n",
    "plt.show()"
   ]
  }
 ],
 "metadata": {
  "kernelspec": {
   "display_name": "Python Kipet",
   "language": "python",
   "name": "kipet_env"
  },
  "language_info": {
   "codemirror_mode": {
    "name": "ipython",
    "version": 3
   },
   "file_extension": ".py",
   "mimetype": "text/x-python",
   "name": "python",
   "nbconvert_exporter": "python",
   "pygments_lexer": "ipython3",
   "version": "3.8.2"
  }
 },
 "nbformat": 4,
 "nbformat_minor": 4
}
