{
 "cells": [
  {
   "cell_type": "markdown",
   "metadata": {},
   "source": []
  },
  {
   "cell_type": "markdown",
   "metadata": {},
   "source": [
    "# Tutorial 5 – Advanced reaction systems with additional states using finite elements\n",
    "\n",
    "Another functionality within KIPET is to use a finite element by element approach to initialize a problem. If you consider a fed-batch process, certain substances are added during the process in a specific manner dependent on time. This can be modeled using additional algebraic and state variables, similar to the process shown in Tutorial 4. In this tutorial, the following reaction system is simulated.\n",
    "\n",
    "$$\\require{mhchem}$$ \n",
    "$\\ce{AH + B ->[k_1] A^- + BH^+}$\n",
    "\n",
    "$\\ce{A^- + C ->[k_2] A^- + AC^-}$\n",
    "\n",
    "$\\ce{AC^- ->[k_{-2}] A^- + C}$\n",
    "\n",
    "$\\ce{AC^- + AH ->[k_3] P + A^-}$\n",
    "\n",
    "$\\ce{AC^- + BH^+ ->[k_4] P + B}$\n",
    "\n",
    "\n",
    "$\\begin{align}\n",
    "r_1 &= k_1\\cdot c_{AH}\\cdot c_{B}\\\\\n",
    "r_2 &= k_2\\cdot c_{A^-}\\cdot c_{C}\\\\\n",
    "r_{-2} &= k_{-2}\\cdot c_{AC^-}\\\\\n",
    "r_3 &= k_3\\cdot c_{AC^-}\\cdot c_{AH}\\\\\n",
    "r_4 &= k_4\\cdot c_{AC^-}\\cdot c_{BH^+}\\\\\n",
    "\\end{align}$\n",
    "\n",
    "Which is represented by the following ODE system:\n",
    "\n",
    "$\\begin{align}\n",
    "\\frac{dV}{dt} &=\n",
    "\\begin{cases}\n",
    "      \\text{constant flowrate}, & t \\lt 3.5\\ h \\\\\n",
    "      0, & t \\gt 3.5\\ h\\\\\n",
    "    \\end{cases}\\\\\n",
    "\\frac{dc_{AH}}{dt} &= -r_{1} - r_{3} - \\frac{\\dot{V}}{V}c_{AH}\\\\\n",
    "\\frac{dc_{B}}{dt} &= -r_{1} + r_{4} - \\frac{\\dot{V}}{V}c_{B}\\\\\n",
    "\\frac{dc_{A^-}}{dt} &= r_{1} - r_{2} + r_{-2} + r_3 - \\frac{\\dot{V}}{V}c_{A^-}\\\\\n",
    "\\frac{dc_{BH^+}}{dt} &= r_{1} - r_{4} - \\frac{\\dot{V}}{V}c_{BH^+}\\\\\n",
    "\\frac{dc_{C}}{dt} &= -r_{2} + r_{-2} - \\frac{\\dot{V}}{V}c_{C} + \\begin{cases}\n",
    "      m_{C_{add}}/V/3.5, & t \\lt 3.5\\ h \\\\\n",
    "      0, & t \\gt 3.5\\ h\\\\\n",
    "    \\end{cases}\\\\\n",
    "\\frac{dc_{AC^-}}{dt} &= r_{2} - r_{-2} - r_3 - r_4 - \\frac{\\dot{V}}{V}c_{AC^-}\\\\\n",
    "\\frac{dc_{P}}{dt} &= r_{3} + r_{4} - \\frac{\\dot{V}}{V}c_{P}\\\\\n",
    "\\end{align}$\n",
    "\n",
    "The file for this tutorial is Ex_5_sim_fe_by_fe.py. For using the finite element by finite element approach you have to import the FESimulator packageb"
   ]
  },
  {
   "cell_type": "markdown",
   "metadata": {},
   "source": [
    "### Load required modules"
   ]
  },
  {
   "cell_type": "code",
   "execution_count": null,
   "metadata": {},
   "outputs": [],
   "source": [
    "import os\n",
    "import pickle\n",
    "import sys\n",
    "\n",
    "import matplotlib.pyplot as plt\n",
    "import numpy as np\n",
    "import pandas as pd\n",
    "from pyomo.opt import *\n",
    "\n",
    "from kipet.library.data_tools import *\n",
    "from kipet.library.FESimulator import *  # <-- Note the new package\n",
    "from kipet.library.ParameterEstimator import *\n",
    "from kipet.library.PyomoSimulator import *\n",
    "from kipet.library.TemplateBuilder import *\n",
    "from kipet.library.VarianceEstimator import *"
   ]
  },
  {
   "cell_type": "markdown",
   "metadata": {},
   "source": [
    "### Build model using TemplateBuilder\n",
    "\n",
    "In the case of having 5 rate laws, you will have 5 algebraic variables but an extra algebraic variable can be added which basically works as an input, such that you have 6 in total."
   ]
  },
  {
   "cell_type": "code",
   "execution_count": null,
   "metadata": {},
   "outputs": [],
   "source": [
    "builder = TemplateBuilder()\n",
    "\n",
    "# components\n",
    "components = dict()\n",
    "components['AH'] = 0.395555\n",
    "components['B'] = 0.0351202\n",
    "components['C'] = 0.0\n",
    "components['BH+'] = 0.0\n",
    "components['A-'] = 0.0\n",
    "components['AC-'] = 0.0\n",
    "components['P'] = 0.0\n",
    "\n",
    "builder.add_mixture_component(components)\n",
    "\n",
    "# add algebraics\n",
    "algebraics = [0, 1, 2, 3, 4, 5]  # the indices of the rate rxns\n",
    "# note the fifth component. Which basically works as an input\n",
    "\n",
    "builder.add_algebraic_variable(algebraics)\n",
    "\n",
    "params = dict()\n",
    "params['k0'] = 49.7796\n",
    "params['k1'] = 8.93156\n",
    "params['k2'] = 1.31765\n",
    "params['k3'] = 0.310870\n",
    "params['k4'] = 3.87809\n",
    "\n",
    "builder.add_parameter(params)\n",
    "\n",
    "# add additional state variables\n",
    "extra_states = dict()\n",
    "extra_states['V'] = 0.0629418\n",
    "\n",
    "builder.add_complementary_state_variable(extra_states)\n",
    "\n",
    "# stoichiometric coefficients\n",
    "gammas = dict()\n",
    "gammas['AH'] = [-1, 0, 0, -1, 0]\n",
    "gammas['B'] = [-1, 0, 0, 0, 1]\n",
    "gammas['C'] = [0, -1, 1, 0, 0]\n",
    "gammas['BH+'] = [1, 0, 0, 0, -1]\n",
    "gammas['A-'] = [1, -1, 1, 1, 0]\n",
    "gammas['AC-'] = [0, 1, -1, -1, -1]\n",
    "gammas['P'] = [0, 0, 0, 1, 1]\n",
    "\n",
    "def rule_algebraics(m, t):\n",
    "    r = list()\n",
    "    r.append(m.Y[t, 0] - m.P['k0'] * m.Z[t, 'AH'] * m.Z[t, 'B'])\n",
    "    r.append(m.Y[t, 1] - m.P['k1'] * m.Z[t, 'A-'] * m.Z[t, 'C'])\n",
    "    r.append(m.Y[t, 2] - m.P['k2'] * m.Z[t, 'AC-'])\n",
    "    r.append(m.Y[t, 3] - m.P['k3'] * m.Z[t, 'AC-'] * m.Z[t, 'AH'])\n",
    "    r.append(m.Y[t, 4] - m.P['k4'] * m.Z[t, 'AC-'] * m.Z[t, 'BH+'])\n",
    "    return r\n",
    "#: there is no ae for Y[t,5] because step equn under rule_odes functions as the switch for the \"C\" equation\n",
    "\n",
    "builder.set_algebraics_rule(rule_algebraics)"
   ]
  },
  {
   "cell_type": "markdown",
   "metadata": {},
   "source": [
    "Then additional state variables can be added, which in this example is one additional state variable which models the volume."
   ]
  },
  {
   "cell_type": "code",
   "execution_count": null,
   "metadata": {},
   "outputs": [],
   "source": [
    "def rule_odes(m, t):\n",
    "    exprs = dict()\n",
    "    eta = 1e-2\n",
    "    step = 0.5 * ((m.Y[t, 5] + 1) / ((m.Y[t, 5] + 1) ** 2 + eta ** 2) ** 0.5 + (210.0 - m.Y[t,5]) / ((210.0 - m.Y[t, 5]) ** 2 + eta ** 2) ** 0.5)\n",
    "    exprs['V'] = 7.27609e-05 * step\n",
    "    V = m.X[t, 'V']\n",
    "    \n",
    "    # mass balances\n",
    "    for c in m.mixture_components:\n",
    "        exprs[c] = sum(gammas[c][j] * m.Y[t, j] for j in m.algebraics if j != 5) - exprs['V'] / V * m.Z[t, c]\n",
    "        if c == 'C':\n",
    "            exprs[c] += 0.02247311828 / (m.X[t, 'V'] * 210) * step\n",
    "    return exprs\n",
    "\n",
    "\n",
    "builder.set_odes_rule(rule_odes)\n",
    "dataDirectory = os.path.abspath(\n",
    "    os.path.join( os.path.dirname( os.path.abspath( inspect.getfile(\n",
    "        inspect.currentframe() ) ) ), '..', 'data_sets'))\n",
    "filename =  os.path.join(dataDirectory, 'trimmed.csv')\n",
    "\n",
    "D_frame = read_spectral_data_from_csv(filename)\n",
    "meas_times = sorted(D_frame.index)\n",
    "\n",
    "model = builder.create_pyomo_model(0, 600)"
   ]
  },
  {
   "cell_type": "markdown",
   "metadata": {},
   "source": [
    "Please be aware that the step equation and its application to the algebraic variable and equation m.Y[t,5] will act as a switch for the equations that require an action at a specific time. In order to use the fe_factory to initialize the PyomoSimulator, we can use FESimulator, which automatically sets up the fe_factory problem using the data set up in KIPET’s TemplateBuilder and then calls the PyomoSimulator to construct the simulation model. Similar to PyomoSimulator we first call FESimulator using:"
   ]
  },
  {
   "cell_type": "code",
   "execution_count": null,
   "metadata": {},
   "outputs": [],
   "source": [
    "sim = FESimulator(model)"
   ]
  },
  {
   "cell_type": "markdown",
   "metadata": {},
   "source": [
    "And define the discretization scheme:"
   ]
  },
  {
   "cell_type": "code",
   "execution_count": null,
   "metadata": {},
   "outputs": [],
   "source": [
    "sim.apply_discretization('dae.collocation', nfe=50, ncp=3, scheme='LAGRANGE-RADAU')"
   ]
  },
  {
   "cell_type": "markdown",
   "metadata": {},
   "source": [
    "It is then necessary to declare the inputs_sub which shows which variable acts as the input. And also to fix the values of the input variables time measurement points for the simulation."
   ]
  },
  {
   "cell_type": "code",
   "execution_count": null,
   "metadata": {},
   "outputs": [],
   "source": [
    "inputs_sub = {}\n",
    "inputs_sub['Y'] = [5]\n",
    "\n",
    "for key in sim.model.alltime.value:\n",
    "    sim.model.Y[key, 5].set_value(key)\n",
    "    sim.model.Y[key, 5].fix()"
   ]
  },
  {
   "cell_type": "markdown",
   "metadata": {},
   "source": [
    "Finally we call the fe_factory using the FESimulator. When this function is called, it automatically runs the finite element by finite element march forward along the elements, as well as automatically patching the solutions to the PyomoSimulator model, thereby providing the initializations for it."
   ]
  },
  {
   "cell_type": "code",
   "execution_count": null,
   "metadata": {},
   "outputs": [],
   "source": [
    "init = sim.call_fe_factory(inputs_sub)"
   ]
  },
  {
   "cell_type": "markdown",
   "metadata": {},
   "source": [
    "Following this, we can call the PyomoSimulator function, run_sim(), as before in order to provide us with the final solution for the simulation, which should provide the ouputs, Figures 11 and 12. An example showing how fe_factory can be called directly within KIPET is also given in the file Ad_7_sim_fe_by_fe_detailed.py. This approach should not be required, but it provides useful insight into the mechanisms of fe_factory."
   ]
  },
  {
   "cell_type": "code",
   "execution_count": null,
   "metadata": {},
   "outputs": [],
   "source": [
    "options = {}\n",
    "results = sim.run_sim('ipopt',\n",
    "                      tee=True,\n",
    "                      solver_opts=options)"
   ]
  },
  {
   "cell_type": "markdown",
   "metadata": {},
   "source": [
    "### Visualization of results"
   ]
  },
  {
   "cell_type": "code",
   "execution_count": null,
   "metadata": {},
   "outputs": [],
   "source": [
    "results.Z.plot.line(legend=True)\n",
    "plt.xlabel(\"time (s)\")\n",
    "plt.ylabel(\"Concentration (mol/L)\")\n",
    "plt.title(\"Concentration Profile\")\n",
    "plt.show()\n",
    "\n",
    "#results.Y[0].plot.line()\n",
    "results.Y[1].plot.line(legend=True)\n",
    "results.Y[2].plot.line(legend=True)\n",
    "results.Y[3].plot.line(legend=True)\n",
    "results.Y[4].plot.line(legend=True)\n",
    "plt.xlabel(\"time (s)\")\n",
    "plt.ylabel(\"rxn rates (mol/L*s)\")\n",
    "plt.title(\"Rates of rxn\")\n",
    "plt.show()\n",
    "\n",
    "results.X.plot.line(legend=True)\n",
    "plt.xlabel(\"time (s)\")\n",
    "plt.ylabel(\"Volume (L)\")\n",
    "plt.title(\"total volume\")\n",
    "plt.show()"
   ]
  }
 ],
 "metadata": {
  "kernelspec": {
   "display_name": "Python Kipet",
   "language": "python",
   "name": "kipet_env"
  },
  "language_info": {
   "codemirror_mode": {
    "name": "ipython",
    "version": 3
   },
   "file_extension": ".py",
   "mimetype": "text/x-python",
   "name": "python",
   "nbconvert_exporter": "python",
   "pygments_lexer": "ipython3",
   "version": "3.8.2"
  }
 },
 "nbformat": 4,
 "nbformat_minor": 4
}
